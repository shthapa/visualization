{
 "cells": [
  {
   "cell_type": "code",
   "execution_count": 26,
   "id": "213576fc",
   "metadata": {},
   "outputs": [],
   "source": [
    "# Import libraries\n",
    "import pandas as pd\n",
    "import matplotlib.pyplot as plt\n",
    "import seaborn as sns"
   ]
  },
  {
   "cell_type": "code",
   "execution_count": 28,
   "id": "c69c793d",
   "metadata": {},
   "outputs": [
    {
     "name": "stderr",
     "output_type": "stream",
     "text": [
      "C:\\Users\\ShaileshT\\AppData\\Local\\Temp\\ipykernel_33040\\3500826477.py:15: FutureWarning: \n",
      "\n",
      "Passing `palette` without assigning `hue` is deprecated and will be removed in v0.14.0. Assign the `y` variable to `hue` and set `legend=False` for the same effect.\n",
      "\n",
      "  sns.barplot(\n",
      "C:\\Users\\ShaileshT\\AppData\\Local\\Temp\\ipykernel_33040\\3500826477.py:39: UserWarning: FigureCanvasAgg is non-interactive, and thus cannot be shown\n",
      "  plt.show()\n"
     ]
    }
   ],
   "source": [
    "\n",
    "\n",
    "# Step 1: Loading the CSV dataset\n",
    "df = pd.read_csv(\"ontario_housing_supply_2024.csv\")\n",
    "\n",
    "# Step 2: Cleaning the percentage column\n",
    "df['Progress % for 2024'] = df['Progress % for 2024'].str.replace('%', '').astype(float)\n",
    "\n",
    "# Step 3: Sorting and extracting top 10 municipalities by 2024 progress %\n",
    "top10 = df.sort_values(by='Progress % for 2024', ascending=False).head(10)\n",
    "\n",
    "# Step 4: Setting figure size and style\n",
    "fig, ax = plt.subplots(figsize=(10, 6), dpi=100)\n",
    "sns.set(style=\"whitegrid\")\n",
    "\n",
    "# Step 5: Plotting horizontal bar chart ON `ax`\n",
    "sns.barplot(\n",
    "    x='Progress % for 2024',\n",
    "    y='Municipality',\n",
    "    data=top10,\n",
    "    palette='viridis',\n",
    "    ax=ax  # <-- Use the correct axes\n",
    ")\n",
    "\n",
    "# Step 6: Adding title and labels\n",
    "ax.set_title('Top 10 Ontario Municipalities by 2024 Housing Target Progress', fontsize=14)\n",
    "ax.set_xlabel('Progress Toward 2024 Target (%)', fontsize=12)\n",
    "ax.set_ylabel('Municipality', fontsize=12)\n",
    "\n",
    "# Step 7: Annotating each bar with its value\n",
    "for i in range(len(top10)):\n",
    "    ax.text(\n",
    "        top10['Progress % for 2024'].iloc[i] + 1,  # x\n",
    "        i,  # y\n",
    "        f\"{top10['Progress % for 2024'].iloc[i]:.1f}%\",  # label\n",
    "        va='center'\n",
    "    )\n",
    "\n",
    "# Step 8: Save plot\n",
    "plt.tight_layout()\n",
    "plt.show()\n",
    "fig.savefig(\"top10_housing_progress.png\", dpi=100, bbox_inches='tight')\n"
   ]
  }
 ],
 "metadata": {
  "kernelspec": {
   "display_name": "dsi_participant",
   "language": "python",
   "name": "python3"
  },
  "language_info": {
   "codemirror_mode": {
    "name": "ipython",
    "version": 3
   },
   "file_extension": ".py",
   "mimetype": "text/x-python",
   "name": "python",
   "nbconvert_exporter": "python",
   "pygments_lexer": "ipython3",
   "version": "3.9.21"
  }
 },
 "nbformat": 4,
 "nbformat_minor": 5
}
