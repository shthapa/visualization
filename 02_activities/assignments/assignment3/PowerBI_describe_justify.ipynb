{
 "cells": [
  {
   "cell_type": "markdown",
   "id": "1a380684",
   "metadata": {},
   "source": [
    "Power BI Visualization – Describe and Justify:\n",
    "1.\tWhat software did you use to create your data visualization?\n",
    "I used Microsoft Power BI to create the clustered bar chart. It provides an intuitive drag-and-drop interface, strong support for categorical comparisons, and interactive filtering capabilities.\n",
    "\n",
    "2.\tWho is your intended audience?\n",
    "The intended audience includes urban planners, municipal decision-makers, and housing policy analysts in Ontario. It can also serve a secondary audience of engaged citizens and advocacy groups tracking housing development progress.\n",
    "\n",
    "3.\tWhat information or message are you trying to convey with your visualization?\n",
    "The goal is to compare how each Ontario municipality is performing against its 2024 housing target. The message is simple:\n",
    "-\tSome cities are exceeding or approaching targets.\n",
    "-\tOthers are lagging behind.\n",
    "This visualization helps prioritize attention and potential resource reallocation.\n",
    "\n",
    "4.\tWhat aspects of design did you consider when making your visualization? How did you apply them? With what elements of your plots?\n",
    "-\tI focused on clarity, contrast, and comparability:\n",
    "-\tUsed horizontal clustered bars to make municipality names easy to scan.\n",
    "-\tApplied distinct colors (blue for target, pink for progress) to avoid confusion.\n",
    "-\tEnabled data labels for quick reference to actual figures.\n",
    "-\tGrouped related metrics on the same axis to allow immediate visual comparison.\n",
    "\n",
    "5.\tHow did you ensure that your data visualizations are reproducible?\n",
    "The dataset was cleaned and loaded using Power BI’s data model, and the entire process is saved in the .pbix file. The steps are easily replayable and modifiable using the Power Query Editor, ensuring full reproducibility. If another user opens the same file with access to the dataset, they will get the exact same results.\n",
    "\n",
    "6.\tHow did you ensure that your data visualization is accessible?\n",
    "-\tSelected high-contrast colors for colorblind-friendly readability.\n",
    "-\tTurned on data labels to minimize reliance on interpreting bar lengths.\n",
    "-\tAvoided clutter by limiting the number of categories to the top municipalities.\n",
    "-\tProvided clear axis titles and an informative legend to guide interpretation.\n",
    "\n",
    "7.\tWho are the individuals and communities who might be impacted by your visualization?\n",
    "-\tMunicipal governments that may use this for performance tracking or reporting.\n",
    "-\tPolicy-makers shaping housing investments or incentives.\n",
    "-\tDevelopers and citizens advocating for more responsive housing plans.\n",
    "The visualization highlights areas of concern and success, potentially influencing where public and private resources flow.\n",
    "\n",
    "8.\tHow did you choose which features of your chosen dataset to include or exclude from your visualization?\n",
    "I included only the 2024 housing target, actual 2024 housing progress, and municipality name to maintain focus. I excluded demographic, geographic, or historical data to keep the visualization clean and aligned with the specific question of \"target vs. progress\" for 2024.\n",
    "\n",
    "9.\tWhat ‘underwater labour’ contributed to your final data visualization product?\n",
    "-\tData cleaning and normalization to align municipality names and numeric types\n",
    "-\tExploring chart types in Power BI to find one that best supports categorical comparison\n",
    "-\tFormatting and adjusting visual elements for clarity and accessibility\n",
    "-\tManual renaming of legend and axes for plain-language readability\n",
    "-\tTime spent testing different combinations of metrics to make the story clear and non-misleading\n"
   ]
  },
  {
   "cell_type": "markdown",
   "id": "c3574389",
   "metadata": {},
   "source": []
  }
 ],
 "metadata": {
  "kernelspec": {
   "display_name": "dsi_participant",
   "language": "python",
   "name": "python3"
  },
  "language_info": {
   "name": "python",
   "version": "3.9.21"
  }
 },
 "nbformat": 4,
 "nbformat_minor": 5
}
