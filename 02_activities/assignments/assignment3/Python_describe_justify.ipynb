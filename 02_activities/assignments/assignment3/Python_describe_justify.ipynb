{
 "cells": [
  {
   "cell_type": "markdown",
   "id": "ffdb7648",
   "metadata": {},
   "source": [
    "Python Visualization – Describe and Justify:\n",
    "1.\tWhat software did you use to create your data visualization?\n",
    "I used Python, specifically the matplotlib and seaborn libraries, to create the horizontal bar chart. These tools are powerful for data wrangling, customization, and reproducible visual storytelling through code.\n",
    "2.\tWho is your intended audience?\n",
    "This visualization is designed for housing analysts, data scientists, government transparency advocates, and anyone seeking a clear, data-driven snapshot of housing development performance in Ontario municipalities.\n",
    "3.\tWhat information or message are you trying to convey with your visualization?\n",
    "The visualization ranks and compares the top 10 municipalities based on their percentage progress toward 2024 housing targets. The message is:\n",
    "Here are the municipalities outperforming their targets — let's spotlight what they’re doing right. It draws attention to overachievement and encourages reflection on regional housing policies.\n",
    "4.\tWhat aspects of design did you consider when making your visualization? How did you apply them? With what elements of your plots?\n",
    "-\tUsed a sequential color palette to reflect progression from lowest to highest performance.\n",
    "-\tPlotted a horizontal bar chart for easier comparison of categorical names with long labels.\n",
    "-\tAdded value labels directly on bars to remove the need for users to estimate lengths.\n",
    "-\tSet a descriptive title and labeled axes to guide interpretation.\n",
    "-\tRemoved unnecessary clutter (e.g., spines, ticks) to maintain focus.\n",
    "\n",
    "5.\tHow did you ensure that your data visualizations are reproducible?\n",
    "The entire visualization is built from a single Python script, which:\n",
    "1.\tLoads the dataset\n",
    "2.\tFilters and sorts the top 10 municipalities\n",
    "3.\tGenerates the chart with all formatting\n",
    "Anyone running this script with the same data will get identical output, making it fully reproducible. It can also be automated or integrated into reports.\n",
    "\n",
    "6.\tHow did you ensure that your data visualization is accessible?\n",
    "-\tUsed high-contrast color shades that are distinguishable by most users, including those with color vision deficiency.\n",
    "-\tLabels on each bar improve readability without requiring legend decoding.\n",
    "-\tFont sizes and layout spacing were tuned for clarity on both screen and print.\n",
    "-\tThe chart doesn’t rely on interactive features, so it's accessible in static formats like PDFs or presentations.\n",
    "\n",
    "7.\tWho are the individuals and communities who might be impacted by your visualization?\n",
    "-\tMunicipal planners and policymakers can benchmark their performance.\n",
    "-\tCivic groups and local residents can use the visualization for advocacy or accountability.\n",
    "-\tGovernment funding bodies may use this to identify and reward top-performing cities.\n",
    "The chart highlights successes that could lead to replication or funding shifts.\n",
    "\n",
    "8.\tHow did you choose which features of your chosen dataset to include or exclude from your visualization?\n",
    "To emphasize clarity, I excluded raw counts and non-percentage metrics. I filtered the top 10 performers only; this allowed the chart to remain readable, focused, and impactful, avoiding information overload or dilution of the insight.\n",
    "\n",
    "9.\tWhat ‘underwater labour’ contributed to your final data visualization product?\n",
    "-\tWriting and testing Python code to prepare the dataset and format the chart\n",
    "-\tAdjusting figure size, orientation, axis labels, and color mapping manually\n",
    "-\tDebugging issues like oversized image exports and annotating labels properly\n",
    "-\tVerifying the percentage calculations to ensure accuracy\n",
    "-\tExporting the chart in a format suitable for inclusion in reports\n"
   ]
  },
  {
   "cell_type": "markdown",
   "id": "638fa34d",
   "metadata": {},
   "source": []
  }
 ],
 "metadata": {
  "kernelspec": {
   "display_name": "dsi_participant",
   "language": "python",
   "name": "python3"
  },
  "language_info": {
   "name": "python",
   "version": "3.9.21"
  }
 },
 "nbformat": 4,
 "nbformat_minor": 5
}
